{
  "nbformat": 4,
  "nbformat_minor": 0,
  "metadata": {
    "colab": {
      "name": "Untitled3.ipynb",
      "provenance": [],
      "collapsed_sections": [],
      "authorship_tag": "ABX9TyMTUsky3ipD7u2oUojFI9eK",
      "include_colab_link": true
    },
    "kernelspec": {
      "name": "python3",
      "display_name": "Python 3"
    }
  },
  "cells": [
    {
      "cell_type": "markdown",
      "metadata": {
        "id": "view-in-github",
        "colab_type": "text"
      },
      "source": [
        "<a href=\"https://colab.research.google.com/github/NgoMinhToan/colab_massive_data/blob/main/ex2.ipynb\" target=\"_parent\"><img src=\"https://colab.research.google.com/assets/colab-badge.svg\" alt=\"Open In Colab\"/></a>"
      ]
    },
    {
      "cell_type": "code",
      "metadata": {
        "colab": {
          "base_uri": "https://localhost:8080/"
        },
        "id": "aSukivpzHB1T",
        "outputId": "88392092-8064-490c-fe6c-ce0ee26cd650"
      },
      "source": [
        "pip install pyspark"
      ],
      "execution_count": 1,
      "outputs": [
        {
          "output_type": "stream",
          "text": [
            "Collecting pyspark\n",
            "\u001b[?25l  Downloading https://files.pythonhosted.org/packages/f0/26/198fc8c0b98580f617cb03cb298c6056587b8f0447e20fa40c5b634ced77/pyspark-3.0.1.tar.gz (204.2MB)\n",
            "\u001b[K     |████████████████████████████████| 204.2MB 65kB/s \n",
            "\u001b[?25hCollecting py4j==0.10.9\n",
            "\u001b[?25l  Downloading https://files.pythonhosted.org/packages/9e/b6/6a4fb90cd235dc8e265a6a2067f2a2c99f0d91787f06aca4bcf7c23f3f80/py4j-0.10.9-py2.py3-none-any.whl (198kB)\n",
            "\u001b[K     |████████████████████████████████| 204kB 51.1MB/s \n",
            "\u001b[?25hBuilding wheels for collected packages: pyspark\n",
            "  Building wheel for pyspark (setup.py) ... \u001b[?25l\u001b[?25hdone\n",
            "  Created wheel for pyspark: filename=pyspark-3.0.1-py2.py3-none-any.whl size=204612242 sha256=59dc50540eb6eb469049406220ae930cc1beb748f273a361540247eaa6b929f5\n",
            "  Stored in directory: /root/.cache/pip/wheels/5e/bd/07/031766ca628adec8435bb40f0bd83bb676ce65ff4007f8e73f\n",
            "Successfully built pyspark\n",
            "Installing collected packages: py4j, pyspark\n",
            "Successfully installed py4j-0.10.9 pyspark-3.0.1\n"
          ],
          "name": "stdout"
        }
      ]
    },
    {
      "cell_type": "code",
      "metadata": {
        "id": "yejjcSp-IT_H"
      },
      "source": [
        "import pyspark\r\n",
        "import collections\r\n",
        "conf = pyspark.SparkConf().setMaster('local').setAppName('words counting')\r\n",
        "sc = pyspark.SparkContext.getOrCreate(conf=conf)"
      ],
      "execution_count": 4,
      "outputs": []
    },
    {
      "cell_type": "code",
      "metadata": {
        "colab": {
          "base_uri": "https://localhost:8080/"
        },
        "id": "fNnvZGjwIYop",
        "outputId": "00a3aa70-8ba3-4ca0-c8a9-ac8ebe7d6451"
      },
      "source": [
        "text = 'to be or not to be'.split()\r\n",
        "rdd = sc.parallelize(text)\r\n",
        "counts = rdd.map(lambda word: (word, 1))\r\n",
        "print(counts.collect())"
      ],
      "execution_count": 5,
      "outputs": [
        {
          "output_type": "stream",
          "text": [
            "[('to', 1), ('be', 1), ('or', 1), ('not', 1), ('to', 1), ('be', 1)]\n"
          ],
          "name": "stdout"
        }
      ]
    },
    {
      "cell_type": "code",
      "metadata": {
        "colab": {
          "base_uri": "https://localhost:8080/"
        },
        "id": "RpVTb5sIJDwO",
        "outputId": "62fd34b0-fbcf-49a1-a795-6caa74dae989"
      },
      "source": [
        "import urllib.request\r\n",
        "text = ''\r\n",
        "for line in urllib.request.urlopen('https://raw.githubusercontent.com/NgoMinhToan/colab_massive_data/main/week1/demo.txt'):\r\n",
        "    text += line.decode()\r\n",
        "text = text.split()\r\n",
        "rdd = sc.parallelize(text)\r\n",
        "counts = rdd.map(lambda word: (word, 1))\r\n",
        "print(counts.collect())\r\n"
      ],
      "execution_count": 33,
      "outputs": [
        {
          "output_type": "stream",
          "text": [
            "[('Biden', 1), ('sẽ', 1), ('ký', 1), ('17', 1), ('sắc', 1), ('lệnh', 1), ('và', 1), ('hành', 1), ('động', 1), ('vài', 1), ('giờ', 1), ('sau', 1), ('khi', 1), ('nhậm', 1), ('chức,', 1), ('nhằm', 1), ('phá', 1), ('bỏ', 1), ('chính', 1), ('sách', 1), ('của', 1), ('Trump', 1), ('và', 1), ('đặt', 1), ('ra', 1), ('con', 1), ('đường', 1), ('mới', 1), ('về', 1), ('nhập', 1), ('cư,', 1), ('môi', 1), ('trường,', 1), ('chống', 1), ('Covid-19.', 1), ('Các', 1), ('phụ', 1), ('tá', 1), ('của', 1), ('Tổng', 1), ('thống', 1), ('đắc', 1), ('cử', 1), ('Joe', 1), ('Biden', 1), ('ra', 1), ('tuyên', 1), ('bố', 1), ('cho', 1), ('biết', 1), ('ông', 1), ('dự', 1), ('kiến', 1), ('bắt', 1), ('đầu', 1), ('chính', 1), ('quyền', 1), ('mới', 1), ('vào', 1), ('ngày', 1), ('20/1', 1), ('với', 1), ('lệnh', 1), ('tái', 1), ('gia', 1), ('nhập', 1), ('Hiệp', 1), ('định', 1), ('Paris', 1), ('về', 1), ('biến', 1), ('đổi', 1), ('khí', 1), ('hậu', 1), ('và', 1), ('Tổ', 1), ('chức', 1), ('Y', 1), ('tế', 1), ('Thế', 1), ('giới', 1), ('(WHO).', 1), ('Tổng', 1), ('thống', 1), ('đắc', 1), ('cử', 1), ('Joe', 1), ('Biden', 1), ('tại', 1), ('sự', 1), ('kiện', 1), ('tưởng', 1), ('niệm', 1), ('nạn', 1), ('nhân', 1), ('Covid-19', 1), ('tại', 1), ('thủ', 1), ('đô', 1), ('Washington', 1), ('ngày', 1), ('19/1.', 1), ('Ảnh:', 1), ('AFP.', 1), ('Tổng', 1), ('thống', 1), ('đắc', 1), ('cử', 1), ('Joe', 1), ('Biden', 1), ('tại', 1), ('sự', 1), ('kiện', 1), ('tưởng', 1), ('niệm', 1), ('nạn', 1), ('nhân', 1), ('Covid-19', 1), ('ở', 1), ('thủ', 1), ('đô', 1), ('Washington', 1), ('ngày', 1), ('19/1.', 1), ('Ảnh:', 1), ('AFP.', 1), ('Ông', 1), ('sẽ', 1), ('chấm', 1), ('dứt', 1), ('lệnh', 1), ('cấm', 1), ('đi', 1), ('lại', 1), ('với', 1), ('một', 1), ('số', 1), ('quốc', 1), ('gia', 1), ('có', 1), ('cộng', 1), ('đồng', 1), ('Hồi', 1), ('giáo', 1), ('chấm', 1), ('đa', 1), ('số', 1), ('và', 1), ('ngừng', 1), ('xây', 1), ('dựng', 1), ('bức', 1), ('tường', 1), ('ở', 1), ('biên', 1), ('giới', 1), ('Mỹ', 1), ('-', 1), ('Mexico', 1), ('mà', 1), ('Trump', 1), ('đề', 1), ('ra', 1), ('để', 1), ('ngăn', 1), ('chặn', 1), ('nhập', 1), ('cư', 1), ('bất', 1), ('hợp', 1), ('pháp.', 1), ('Biden', 1), ('sẽ', 1), ('ra', 1), ('lệnh', 1), ('bắt', 1), ('buộc', 1), ('đeo', 1), ('khẩu', 1), ('trang', 1), ('ở', 1), ('cơ', 1), ('sở', 1), ('liên', 1), ('bang', 1), ('để', 1), ('ngăn', 1), ('chặn', 1), ('sự', 1), ('lây', 1), ('lan', 1), ('của', 1), ('nCoV,', 1), ('khôi', 1), ('phục', 1), ('bảo', 1), ('vệ', 1), ('các', 1), ('khu', 1), ('bảo', 1), ('tồn', 1), ('thiên', 1), ('nhiên', 1), ('có', 1), ('giá', 1), ('trị,', 1), ('ngừng', 1), ('trục', 1), ('xuất', 1), ('và', 1), ('tịch', 1), ('thu', 1), ('nhà', 1), ('của', 1), ('những', 1), ('người', 1), ('gặp', 1), ('khó', 1), ('khăn', 1), ('kinh', 1), ('tế', 1), ('do', 1), ('đại', 1), ('dịch.', 1), ('Ông', 1), ('cũng', 1), ('có', 1), ('kế', 1), ('hoạch', 1), ('gửi', 1), ('dự', 1), ('luật', 1), ('tới', 1), ('quốc', 1), ('hội', 1), ('để', 1), ('sửa', 1), ('đổi', 1), ('các', 1), ('chính', 1), ('sách', 1), ('nhập', 1), ('cư', 1), ('và', 1), ('cung', 1), ('cấp', 1), ('con', 1), ('đường', 1), ('trở', 1), ('thành', 1), ('công', 1), ('dân', 1), ('cho', 1), ('hàng', 1), ('triệu', 1), ('người', 1), ('di', 1), ('cư', 1), ('không', 1), ('giấy', 1), ('tờ.', 1), ('Biden', 1), ('\"sẽ', 1), ('hành', 1), ('động,', 1), ('không', 1), ('chỉ', 1), ('để', 1), ('đảo', 1), ('ngược', 1), ('những', 1), ('thiệt', 1), ('hại', 1), ('nặng', 1), ('nề', 1), ('nhất', 1), ('của', 1), ('chính', 1), ('quyền', 1), ('Trump,', 1), ('mà', 1), ('còn', 1), ('để', 1), ('bắt', 1), ('đầu', 1), ('đưa', 1), ('đất', 1), ('nước', 1), ('chúng', 1), ('ta', 1), ('tiến', 1), ('lên\",', 1), ('các', 1), ('phụ', 1), ('tá', 1), ('cho', 1), ('biết', 1), ('trong', 1), ('tuyên', 1), ('bố.', 1), ('\"Đây', 1), ('là', 1), ('những', 1), ('hành', 1), ('động', 1), ('táo', 1), ('bạo,', 1), ('mở', 1), ('đầu', 1), ('cho', 1), ('nỗ', 1), ('lực', 1), ('thực', 1), ('hiện', 1), ('những', 1), ('lời', 1), ('hứa', 1), ('của', 1), ('Tổng', 1), ('thống', 1), ('đắc', 1), ('cử', 1), ('Biden', 1), ('với', 1), ('người', 1), ('dân', 1), ('Mỹ,', 1), ('và', 1), ('quan', 1), ('trọng', 1), ('là', 1), ('đúng', 1), ('với', 1), ('vai', 1), ('trò', 1), ('hiến', 1), ('định', 1), ('của', 1), ('tổng', 1), ('thống\".', 1), ('Nhiều', 1), ('động', 1), ('thái', 1), ('sẽ', 1), ('đưa', 1), ('các', 1), ('chính', 1), ('sách', 1), ('của', 1), ('chính', 1), ('phủ', 1), ('trở', 1), ('lại', 1), ('thời', 1), ('điểm', 1), ('19/1/2017', 1), ('-', 1), ('ngày', 1), ('cuối', 1), ('cùng', 1), ('của', 1), ('chính', 1), ('quyền', 1), ('Barack', 1), ('Obama', 1), ('-', 1), ('Joe', 1), ('Biden,', 1), ('trước', 1), ('khi', 1), ('Trump', 1), ('nhậm', 1), ('chức', 1), ('và', 1), ('xóa', 1), ('bỏ', 1), ('nhiều', 1), ('sáng', 1), ('kiến', 1), ('của', 1), ('họ.', 1), ('Jeff', 1), ('Zient,', 1), ('người', 1), ('được', 1), ('Biden', 1), ('chọn', 1), ('làm', 1), ('quan', 1), ('chức', 1), ('phụ', 1), ('trách', 1), ('chống', 1), ('dịch,', 1), ('cho', 1), ('biết', 1), ('Biden', 1), ('sẽ', 1), ('thành', 1), ('lập', 1), ('một', 1), ('văn', 1), ('phòng', 1), ('phản', 1), ('ứng', 1), ('Covid-19', 1), ('bên', 1), ('trong', 1), ('Nhà', 1), ('Trắng.', 1), ('Lệnh', 1), ('đeo', 1), ('khẩu', 1), ('trang', 1), ('kéo', 1), ('dài', 1), ('100', 1), ('ngày', 1), ('sẽ', 1), ('được', 1), ('thực', 1), ('hiện', 1), ('ở', 1), ('tất', 1), ('cả', 1), ('cơ', 1), ('sở', 1), ('và', 1), ('hoạt', 1), ('động', 1), ('liên', 1), ('bang,', 1), ('đặt', 1), ('ra', 1), ('tiêu', 1), ('chuẩn', 1), ('để', 1), ('các', 1), ('công', 1), ('ty', 1), ('tư', 1), ('nhân,', 1), ('các', 1), ('bang', 1), ('và', 1), ('cộng', 1), ('đồng', 1), ('tuân', 1), ('theo.', 1), ('Lễ', 1), ('nhậm', 1), ('chức', 1), ('của', 1), ('Joe', 1), ('Biden', 1), ('sẽ', 1), ('bắt', 1), ('đầu', 1), ('vào', 1), ('khoảng', 1), ('11h30', 1), ('(23h30', 1), ('giờ', 1), ('Hà', 1), ('Nội)', 1), ('ngày', 1), ('20/1.', 1), ('Khoảng', 1), ('1.000', 1), ('người', 1), ('tham', 1), ('dự', 1), ('buổi', 1), ('lễ,', 1), ('đa', 1), ('phần', 1), ('là', 1), ('nghị', 1), ('sĩ', 1), ('quốc', 1), ('hội', 1), ('và', 1), ('khách', 1), ('mời', 1), ('của', 1), ('họ.', 1), ('Sự', 1), ('kiện', 1), ('sẽ', 1), ('được', 1), ('Ủy', 1), ('ban', 1), ('Nhậm', 1), ('chức', 1), ('Tổng', 1), ('thống', 1), ('phát', 1), ('trực', 1), ('tuyến,', 1), ('công', 1), ('chúng', 1), ('Mỹ', 1), ('được', 1), ('khuyến', 1), ('cáo', 1), ('ở', 1), ('nhà,', 1), ('không', 1), ('tới', 1), ('Washington', 1), ('chứng', 1), ('kiến', 1), ('sự', 1), ('kiện', 1), ('do', 1), ('lo', 1), ('ngại', 1), ('về', 1), ('Covid-19', 1), ('và', 1), ('vấn', 1), ('đề', 1), ('an', 1), ('ninh.', 1), ('Donald', 1), ('Trump', 1), ('không', 1), ('dự', 1), ('lễ', 1), ('nhậm', 1), ('chức', 1), ('của', 1), ('người', 1), ('kế', 1), ('nhiệm', 1), ('và', 1), ('sẽ', 1), ('rời', 1), ('khỏi', 1), ('Washington', 1), ('trước', 1), ('khi', 1), ('buổi', 1), ('lễ', 1), ('bắt', 1), ('đầu.', 1)]\n"
          ],
          "name": "stdout"
        }
      ]
    },
    {
      "cell_type": "code",
      "metadata": {
        "colab": {
          "base_uri": "https://localhost:8080/"
        },
        "id": "82fhOl1GIdpw",
        "outputId": "d504edf8-4194-4d8a-e1b7-45622b3e0659"
      },
      "source": [
        "recount = counts.reduceByKey(lambda x, y: x + y)\r\n",
        "##\r\n",
        "print(recount.collect())"
      ],
      "execution_count": 34,
      "outputs": [
        {
          "output_type": "stream",
          "text": [
            "[('Biden', 10), ('sẽ', 9), ('ký', 1), ('17', 1), ('sắc', 1), ('lệnh', 4), ('và', 13), ('hành', 3), ('động', 4), ('vài', 1), ('giờ', 2), ('sau', 1), ('khi', 3), ('nhậm', 4), ('chức,', 1), ('nhằm', 1), ('phá', 1), ('bỏ', 2), ('chính', 7), ('sách', 3), ('của', 13), ('Trump', 4), ('đặt', 2), ('ra', 5), ('con', 2), ('đường', 2), ('mới', 2), ('về', 3), ('nhập', 4), ('cư,', 1), ('môi', 1), ('trường,', 1), ('chống', 2), ('Covid-19.', 1), ('Các', 1), ('phụ', 3), ('tá', 2), ('Tổng', 5), ('thống', 5), ('đắc', 4), ('cử', 4), ('Joe', 5), ('tuyên', 2), ('bố', 1), ('cho', 5), ('biết', 3), ('ông', 1), ('dự', 4), ('kiến', 3), ('bắt', 5), ('đầu', 4), ('quyền', 3), ('vào', 2), ('ngày', 6), ('20/1', 1), ('với', 4), ('tái', 1), ('gia', 2), ('Hiệp', 1), ('định', 2), ('Paris', 1), ('biến', 1), ('đổi', 2), ('khí', 1), ('hậu', 1), ('Tổ', 1), ('chức', 6), ('Y', 1), ('tế', 2), ('Thế', 1), ('giới', 2), ('(WHO).', 1), ('tại', 3), ('sự', 4), ('kiện', 4), ('tưởng', 2), ('niệm', 2), ('nạn', 2), ('nhân', 2), ('Covid-19', 4), ('thủ', 2), ('đô', 2), ('Washington', 4), ('19/1.', 2), ('Ảnh:', 2), ('AFP.', 2), ('ở', 5), ('Ông', 2), ('chấm', 2), ('dứt', 1), ('cấm', 1), ('đi', 1), ('lại', 2), ('một', 2), ('số', 2), ('quốc', 3), ('có', 3), ('cộng', 2), ('đồng', 2), ('Hồi', 1), ('giáo', 1), ('đa', 2), ('ngừng', 2), ('xây', 1), ('dựng', 1), ('bức', 1), ('tường', 1), ('biên', 1), ('Mỹ', 2), ('-', 3), ('Mexico', 1), ('mà', 2), ('đề', 2), ('để', 6), ('ngăn', 2), ('chặn', 2), ('cư', 3), ('bất', 1), ('hợp', 1), ('pháp.', 1), ('buộc', 1), ('đeo', 2), ('khẩu', 2), ('trang', 2), ('cơ', 2), ('sở', 2), ('liên', 2), ('bang', 2), ('lây', 1), ('lan', 1), ('nCoV,', 1), ('khôi', 1), ('phục', 1), ('bảo', 2), ('vệ', 1), ('các', 6), ('khu', 1), ('tồn', 1), ('thiên', 1), ('nhiên', 1), ('giá', 1), ('trị,', 1), ('trục', 1), ('xuất', 1), ('tịch', 1), ('thu', 1), ('nhà', 1), ('những', 4), ('người', 6), ('gặp', 1), ('khó', 1), ('khăn', 1), ('kinh', 1), ('do', 2), ('đại', 1), ('dịch.', 1), ('cũng', 1), ('kế', 2), ('hoạch', 1), ('gửi', 1), ('luật', 1), ('tới', 2), ('hội', 2), ('sửa', 1), ('cung', 1), ('cấp', 1), ('trở', 2), ('thành', 2), ('công', 3), ('dân', 2), ('hàng', 1), ('triệu', 1), ('di', 1), ('không', 4), ('giấy', 1), ('tờ.', 1), ('\"sẽ', 1), ('động,', 1), ('chỉ', 1), ('đảo', 1), ('ngược', 1), ('thiệt', 1), ('hại', 1), ('nặng', 1), ('nề', 1), ('nhất', 1), ('Trump,', 1), ('còn', 1), ('đưa', 2), ('đất', 1), ('nước', 1), ('chúng', 2), ('ta', 1), ('tiến', 1), ('lên\",', 1), ('trong', 2), ('bố.', 1), ('\"Đây', 1), ('là', 3), ('táo', 1), ('bạo,', 1), ('mở', 1), ('nỗ', 1), ('lực', 1), ('thực', 2), ('hiện', 2), ('lời', 1), ('hứa', 1), ('Mỹ,', 1), ('quan', 2), ('trọng', 1), ('đúng', 1), ('vai', 1), ('trò', 1), ('hiến', 1), ('tổng', 1), ('thống\".', 1), ('Nhiều', 1), ('thái', 1), ('phủ', 1), ('thời', 1), ('điểm', 1), ('19/1/2017', 1), ('cuối', 1), ('cùng', 1), ('Barack', 1), ('Obama', 1), ('Biden,', 1), ('trước', 2), ('xóa', 1), ('nhiều', 1), ('sáng', 1), ('họ.', 2), ('Jeff', 1), ('Zient,', 1), ('được', 4), ('chọn', 1), ('làm', 1), ('trách', 1), ('dịch,', 1), ('lập', 1), ('văn', 1), ('phòng', 1), ('phản', 1), ('ứng', 1), ('bên', 1), ('Nhà', 1), ('Trắng.', 1), ('Lệnh', 1), ('kéo', 1), ('dài', 1), ('100', 1), ('tất', 1), ('cả', 1), ('hoạt', 1), ('bang,', 1), ('tiêu', 1), ('chuẩn', 1), ('ty', 1), ('tư', 1), ('nhân,', 1), ('tuân', 1), ('theo.', 1), ('Lễ', 1), ('khoảng', 1), ('11h30', 1), ('(23h30', 1), ('Hà', 1), ('Nội)', 1), ('20/1.', 1), ('Khoảng', 1), ('1.000', 1), ('tham', 1), ('buổi', 2), ('lễ,', 1), ('phần', 1), ('nghị', 1), ('sĩ', 1), ('khách', 1), ('mời', 1), ('Sự', 1), ('Ủy', 1), ('ban', 1), ('Nhậm', 1), ('phát', 1), ('trực', 1), ('tuyến,', 1), ('khuyến', 1), ('cáo', 1), ('nhà,', 1), ('chứng', 1), ('lo', 1), ('ngại', 1), ('vấn', 1), ('an', 1), ('ninh.', 1), ('Donald', 1), ('lễ', 2), ('nhiệm', 1), ('rời', 1), ('khỏi', 1), ('đầu.', 1)]\n"
          ],
          "name": "stdout"
        }
      ]
    }
  ]
}