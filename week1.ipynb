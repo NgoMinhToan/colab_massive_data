{
  "nbformat": 4,
  "nbformat_minor": 0,
  "metadata": {
    "colab": {
      "name": "Untitled1.ipynb",
      "provenance": [],
      "collapsed_sections": [],
      "toc_visible": true,
      "authorship_tag": "ABX9TyPY9szgQsLoE4IG4fb8Txfn",
      "include_colab_link": true
    },
    "kernelspec": {
      "name": "python3",
      "display_name": "Python 3"
    }
  },
  "cells": [
    {
      "cell_type": "markdown",
      "metadata": {
        "id": "view-in-github",
        "colab_type": "text"
      },
      "source": [
        "<a href=\"https://colab.research.google.com/github/NgoMinhToan/colab_massive_data/blob/main/week1.ipynb\" target=\"_parent\"><img src=\"https://colab.research.google.com/assets/colab-badge.svg\" alt=\"Open In Colab\"/></a>"
      ]
    },
    {
      "cell_type": "code",
      "metadata": {
        "colab": {
          "base_uri": "https://localhost:8080/"
        },
        "id": "cM43TAGk0A7j",
        "outputId": "a572ad34-94a1-4375-bf14-4d56b7ba2b36"
      },
      "source": [
        "a = lambda a: a**(.5)\r\n",
        "\r\n",
        "print(a(9))"
      ],
      "execution_count": 2,
      "outputs": [
        {
          "output_type": "stream",
          "text": [
            "3.0\n"
          ],
          "name": "stdout"
        }
      ]
    },
    {
      "cell_type": "code",
      "metadata": {
        "colab": {
          "base_uri": "https://localhost:8080/"
        },
        "id": "7sTbTzFP1Rml",
        "outputId": "e57e97c0-4e99-4bae-fbe9-cde4745d55d9"
      },
      "source": [
        "my_list = list(range(100))\r\n",
        "new_list = list(filter(lambda f: f % 7 == 0, my_list))\r\n",
        "print(my_list)\r\n",
        "print(new_list)"
      ],
      "execution_count": 3,
      "outputs": [
        {
          "output_type": "stream",
          "text": [
            "[0, 1, 2, 3, 4, 5, 6, 7, 8, 9, 10, 11, 12, 13, 14, 15, 16, 17, 18, 19, 20, 21, 22, 23, 24, 25, 26, 27, 28, 29, 30, 31, 32, 33, 34, 35, 36, 37, 38, 39, 40, 41, 42, 43, 44, 45, 46, 47, 48, 49, 50, 51, 52, 53, 54, 55, 56, 57, 58, 59, 60, 61, 62, 63, 64, 65, 66, 67, 68, 69, 70, 71, 72, 73, 74, 75, 76, 77, 78, 79, 80, 81, 82, 83, 84, 85, 86, 87, 88, 89, 90, 91, 92, 93, 94, 95, 96, 97, 98, 99]\n",
            "[0, 7, 14, 21, 28, 35, 42, 49, 56, 63, 70, 77, 84, 91, 98]\n"
          ],
          "name": "stdout"
        }
      ]
    },
    {
      "cell_type": "code",
      "metadata": {
        "colab": {
          "base_uri": "https://localhost:8080/"
        },
        "id": "BEV2IxcA7lX7",
        "outputId": "8f298b47-3f0a-4bf1-b532-502debabdcf1"
      },
      "source": [
        "print(100)"
      ],
      "execution_count": null,
      "outputs": [
        {
          "output_type": "stream",
          "text": [
            "100\n"
          ],
          "name": "stdout"
        }
      ]
    },
    {
      "cell_type": "code",
      "metadata": {
        "colab": {
          "base_uri": "https://localhost:8080/"
        },
        "id": "oyzJJ4hy8ysp",
        "outputId": "f5e5c898-be1a-4561-8605-0c52bead23a2"
      },
      "source": [
        "pip install pyspark"
      ],
      "execution_count": 4,
      "outputs": [
        {
          "output_type": "stream",
          "text": [
            "Collecting pyspark\n",
            "\u001b[?25l  Downloading https://files.pythonhosted.org/packages/f0/26/198fc8c0b98580f617cb03cb298c6056587b8f0447e20fa40c5b634ced77/pyspark-3.0.1.tar.gz (204.2MB)\n",
            "\u001b[K     |████████████████████████████████| 204.2MB 69kB/s \n",
            "\u001b[?25hCollecting py4j==0.10.9\n",
            "\u001b[?25l  Downloading https://files.pythonhosted.org/packages/9e/b6/6a4fb90cd235dc8e265a6a2067f2a2c99f0d91787f06aca4bcf7c23f3f80/py4j-0.10.9-py2.py3-none-any.whl (198kB)\n",
            "\u001b[K     |████████████████████████████████| 204kB 42.6MB/s \n",
            "\u001b[?25hBuilding wheels for collected packages: pyspark\n",
            "  Building wheel for pyspark (setup.py) ... \u001b[?25l\u001b[?25hdone\n",
            "  Created wheel for pyspark: filename=pyspark-3.0.1-py2.py3-none-any.whl size=204612242 sha256=5919018f941d29bbca9bd72229d259df2d65af1148b43944b49acc474dddf5e5\n",
            "  Stored in directory: /root/.cache/pip/wheels/5e/bd/07/031766ca628adec8435bb40f0bd83bb676ce65ff4007f8e73f\n",
            "Successfully built pyspark\n",
            "Installing collected packages: py4j, pyspark\n",
            "Successfully installed py4j-0.10.9 pyspark-3.0.1\n"
          ],
          "name": "stdout"
        }
      ]
    },
    {
      "cell_type": "code",
      "metadata": {
        "id": "wPFEuyJ2AK7w"
      },
      "source": [
        "import pyspark\r\n",
        "import collections\r\n",
        "conf = pyspark.SparkConf().setMaster('local').setAppName('words counting')\r\n",
        "sc = pyspark.SparkContext.getOrCreate(conf=conf)"
      ],
      "execution_count": 5,
      "outputs": []
    },
    {
      "cell_type": "code",
      "metadata": {
        "colab": {
          "base_uri": "https://localhost:8080/"
        },
        "id": "JYpFuBqcFReq",
        "outputId": "fd22fd76-3801-4746-8698-5b99923ab7f0"
      },
      "source": [
        "text = 'to be or not to be'.split()\r\n",
        "rdd = sc.parallelize(text)\r\n",
        "counts = rdd.map(lambda word: (word, 1))\r\n",
        "print(counts.collect())"
      ],
      "execution_count": 6,
      "outputs": [
        {
          "output_type": "stream",
          "text": [
            "[('to', 1), ('be', 1), ('or', 1), ('not', 1), ('to', 1), ('be', 1)]\n"
          ],
          "name": "stdout"
        }
      ]
    },
    {
      "cell_type": "code",
      "metadata": {
        "colab": {
          "base_uri": "https://localhost:8080/"
        },
        "id": "5mWhFJvdFoUV",
        "outputId": "bd87c383-1d2a-4e61-e8fe-8f7e0359c14d"
      },
      "source": [
        "#reduce by key\r\n",
        "red = counts.reduceByKey(lambda x, y: x + y)\r\n",
        "print(red.collect())"
      ],
      "execution_count": 7,
      "outputs": [
        {
          "output_type": "stream",
          "text": [
            "[('to', 2), ('be', 2), ('or', 1), ('not', 1)]\n"
          ],
          "name": "stdout"
        }
      ]
    },
    {
      "cell_type": "code",
      "metadata": {
        "colab": {
          "base_uri": "https://localhost:8080/"
        },
        "id": "pUZNCUv7JyM7",
        "outputId": "613af11e-3bf3-4b92-be68-86021991eb95"
      },
      "source": [
        "# BAI 1\r\n",
        "# 1. Tim so nguyen lon nhat\r\n",
        "import random\r\n",
        "int_list = [random.randint(1, 100) for i in range(20)]\r\n",
        "rdd = sc.parallelize(int_list)\r\n",
        "max_int = rdd.reduce(lambda x, y: x > y and x or y)\r\n",
        "print('Array int:', int_list)\r\n",
        "print('Max int:', max_int)"
      ],
      "execution_count": 24,
      "outputs": [
        {
          "output_type": "stream",
          "text": [
            "Array int: [38, 65, 76, 96, 15, 62, 43, 21, 35, 85, 33, 70, 100, 62, 64, 30, 17, 91, 67, 81]\n",
            "Max int: 100\n"
          ],
          "name": "stdout"
        }
      ]
    },
    {
      "cell_type": "code",
      "metadata": {
        "colab": {
          "base_uri": "https://localhost:8080/"
        },
        "id": "414-z27EOPht",
        "outputId": "964af0ec-9001-42c9-cd0e-76c0c310935e"
      },
      "source": [
        "# 2. Tìm trung bình của các số\r\n",
        "avg_int = rdd.reduce(lambda x, y: x + y)\r\n",
        "print('Avarage int:', avg_int/len(rdd.collect()))"
      ],
      "execution_count": 33,
      "outputs": [
        {
          "output_type": "stream",
          "text": [
            "Avarage int: 57.55\n"
          ],
          "name": "stdout"
        }
      ]
    }
  ]
}