{
  "nbformat": 4,
  "nbformat_minor": 0,
  "metadata": {
    "colab": {
      "name": "mid-term.ipynb",
      "provenance": [],
      "collapsed_sections": [],
      "authorship_tag": "ABX9TyN9oToT6yqVuiaY3BU9UMNM",
      "include_colab_link": true
    },
    "kernelspec": {
      "name": "python3",
      "display_name": "Python 3"
    }
  },
  "cells": [
    {
      "cell_type": "markdown",
      "metadata": {
        "id": "view-in-github",
        "colab_type": "text"
      },
      "source": [
        "<a href=\"https://colab.research.google.com/github/NgoMinhToan/colab_massive_data/blob/main/mid_term.ipynb\" target=\"_parent\"><img src=\"https://colab.research.google.com/assets/colab-badge.svg\" alt=\"Open In Colab\"/></a>"
      ]
    },
    {
      "cell_type": "code",
      "metadata": {
        "colab": {
          "base_uri": "https://localhost:8080/"
        },
        "id": "4fNwVu5Ctha4",
        "outputId": "5c8663c5-fd70-4925-9510-280dda7adb89"
      },
      "source": [
        "pip install pyspark"
      ],
      "execution_count": 139,
      "outputs": [
        {
          "output_type": "stream",
          "text": [
            "Requirement already satisfied: pyspark in /usr/local/lib/python3.7/dist-packages (3.1.1)\n",
            "Requirement already satisfied: py4j==0.10.9 in /usr/local/lib/python3.7/dist-packages (from pyspark) (0.10.9)\n"
          ],
          "name": "stdout"
        }
      ]
    },
    {
      "cell_type": "code",
      "metadata": {
        "id": "HOmGWMQwJo_D"
      },
      "source": [
        "import re\n",
        "import time\n",
        "import random\n",
        "from itertools import combinations\n",
        "import requests\n",
        "from bs4 import BeautifulSoup\n",
        "import pyspark\n",
        "import collections"
      ],
      "execution_count": 140,
      "outputs": []
    },
    {
      "cell_type": "code",
      "metadata": {
        "id": "ZhoUe9OpQlNs"
      },
      "source": [
        "def get_signgles(doc, k, signgles = set()):\n",
        "    for i in range(0, len(doc) -k):\n",
        "        signgles.add(doc[i:i+k])\n",
        "    return signgles"
      ],
      "execution_count": 141,
      "outputs": []
    },
    {
      "cell_type": "code",
      "metadata": {
        "id": "7xPUn_SMYknb"
      },
      "source": [
        "def get_boolean_value(signgles, doc):\n",
        "    boolean_value = []\n",
        "    for i in signgles:\n",
        "        if i in doc:\n",
        "            boolean_value.append(1)\n",
        "        else:\n",
        "            boolean_value.append(0)\n",
        "    return boolean_value"
      ],
      "execution_count": 142,
      "outputs": []
    },
    {
      "cell_type": "code",
      "metadata": {
        "id": "ZR3Evlv7QoE8"
      },
      "source": [
        "def Jaccard_similarity(a, b):\n",
        "    total = 0\n",
        "    index = 0\n",
        "    for i in range(len(a)):\n",
        "        if a[i] == 1 or b[i] == 1:\n",
        "            total += 1\n",
        "        if a[i] == b[i] == 1:\n",
        "            index += 1\n",
        "    if total == 0:\n",
        "        return 0\n",
        "    return index/total"
      ],
      "execution_count": 143,
      "outputs": []
    },
    {
      "cell_type": "code",
      "metadata": {
        "id": "sIlW2cI9QrqW"
      },
      "source": [
        "def Probility_Sig(a, b):\n",
        "    count = 0\n",
        "    for i in range(len(a)):\n",
        "        if a[i] == b[i]:\n",
        "            count += 1\n",
        "    return count/len(a)"
      ],
      "execution_count": 144,
      "outputs": []
    },
    {
      "cell_type": "code",
      "metadata": {
        "id": "td_4ES8NWOFu"
      },
      "source": [
        "# create hash function\n",
        "def hash_function(x, a, b, c):\n",
        "    return (a*x + b) % c"
      ],
      "execution_count": 145,
      "outputs": []
    },
    {
      "cell_type": "code",
      "metadata": {
        "id": "8Jc5zf-9s11m"
      },
      "source": [
        "def find_min_prime(x):\n",
        "    for i in range(length_shingle, length_shingle + 100000):\n",
        "        prime = True\n",
        "        for j in range(2, i//2):\n",
        "            if i%j==0:\n",
        "                prime = False\n",
        "                break\n",
        "        if prime:\n",
        "            return i"
      ],
      "execution_count": 146,
      "outputs": []
    },
    {
      "cell_type": "code",
      "metadata": {
        "id": "qcGcm1Bi0nkx"
      },
      "source": [
        "def check_in_bucket(a, z, threshold, min_hash, counts = {}):\n",
        "    temp = []\n",
        "    for i1, i2 in combinations(range(a, z), 2):\n",
        "        prob = Probility_Sig(min_hash[i1], min_hash[i2])\n",
        "        if prob > threshold:\n",
        "            temp.append([i1, i2, prob])\n",
        "            if frozenset([i1, i2]) in list(counts):\n",
        "                counts[frozenset([i1, i2])] += 1\n",
        "            else:\n",
        "                counts[frozenset([i1, i2])] = 1\n",
        "    return temp"
      ],
      "execution_count": 147,
      "outputs": []
    },
    {
      "cell_type": "code",
      "metadata": {
        "id": "TDYfzw2KrgIt"
      },
      "source": [
        "k = 9\n",
        "num_for_hash = 100\n",
        "b = 1\n",
        "time_no_pyspark = 0\n",
        "time_using_pyspark = 0"
      ],
      "execution_count": 148,
      "outputs": []
    },
    {
      "cell_type": "markdown",
      "metadata": {
        "id": "YxrYVQfTjMgu"
      },
      "source": [
        "#**Crawl dữ liệu**"
      ]
    },
    {
      "cell_type": "code",
      "metadata": {
        "id": "PudjLtego4GX"
      },
      "source": [
        "article1 = []\n",
        "\n",
        "page = \"https://tuoitre.vn/thoi-su.htm\"\n",
        "response = requests.get(page)\n",
        "soup = BeautifulSoup(response.content, \"html.parser\")\n",
        "titles = soup.findAll('h3', class_='title-news')\n",
        "links = list(set([link.find('a').attrs[\"href\"] for link in titles]))\n",
        "\n",
        "for link in links:\n",
        "    full_link = \"https://tuoitre.vn\" + link\n",
        "    news = requests.get(full_link)\n",
        "    soup = BeautifulSoup(news.content, \"html.parser\")\n",
        "    title = ''\n",
        "    image = None\n",
        "    content = ''\n",
        "    abstract = ''\n",
        "    if soup.find(\"h1\", class_=\"article-title\"):\n",
        "        title = soup.find(\"h1\", class_=\"article-title\").text\n",
        "    if soup.find(\"h2\", class_=\"sapo\"):\n",
        "        abstract = soup.find(\"h2\", class_=\"sapo\").text\n",
        "    body = soup.find(\"div\", id=\"main-detail-body\")\n",
        "    if body:\n",
        "        if body.find('p'):\n",
        "            content = '\\n'.join([i.text for i in body.findChildren(\"p\", recursive=False)])\n",
        "        if body.find(\"img\"):\n",
        "            image = body.find(\"img\").attrs[\"src\"]\n",
        "    article1.append({'title': title, 'abstract': abstract, 'body': body, 'content': content, 'image': image, 'link': full_link, 'homePage': 'tuoitre.vn'})\n"
      ],
      "execution_count": 149,
      "outputs": []
    },
    {
      "cell_type": "code",
      "metadata": {
        "id": "PCf_52YEuTPO"
      },
      "source": [
        "article2 = []\n",
        "\n",
        "page = \"https://vnexpress.net/thoi-su\"\n",
        "response = requests.get(page)\n",
        "soup = BeautifulSoup(response.content, \"html.parser\")\n",
        "titles = soup.findAll('h3', class_='title-news')\n",
        "links = list(set([link.find('a').attrs[\"href\"] for link in titles]))\n",
        "\n",
        "for link in links:\n",
        "    news = requests.get(link)\n",
        "    soup = BeautifulSoup(news.content, \"html.parser\")\n",
        "    title = ''\n",
        "    content = ''\n",
        "    image = None\n",
        "    abstract = ''\n",
        "    if soup.find(\"h1\", class_=\"title-detail\"):\n",
        "        title = soup.find(\"h1\", class_=\"title-detail\").text\n",
        "    if soup.find(\"p\", class_=\"description\"):\n",
        "        abstract = soup.find(\"p\", class_=\"description\").text\n",
        "    body = soup.find(\"article\", class_=\"fck_detail\")\n",
        "    if body:\n",
        "        if body.find('p'):\n",
        "            content = '\\n'.join([i.text for i in body.findChildren(\"p\", recursive=True)])\n",
        "        if body.find(\"img\"):\n",
        "            image = body.find(\"img\").attrs[\"src\"]\n",
        "    article2.append({'title': title, 'abstract': abstract, 'body': body, 'content': content, 'image': image, 'link': link, 'homePage': 'vnexpress.net'})"
      ],
      "execution_count": 150,
      "outputs": []
    },
    {
      "cell_type": "code",
      "metadata": {
        "id": "hzftj3zm_mh0"
      },
      "source": [
        "article3 = []\n",
        "\n",
        "page = \"https://vietnamnet.vn/vn/thoi-su/\"\n",
        "response = requests.get(page)\n",
        "soup = BeautifulSoup(response.content, \"html.parser\")\n",
        "items = soup.find('div', class_='list-content')\n",
        "titles = items.findAll('h3')\n",
        "links = list(set([link.find('a').attrs[\"href\"] for link in titles]))\n",
        "\n",
        "for link in links:\n",
        "    full_link = \"https://vietnamnet.vn\" + link\n",
        "    news = requests.get(full_link)\n",
        "    soup = BeautifulSoup(news.content, \"html.parser\")\n",
        "    title = ''\n",
        "    abstract = ''\n",
        "    content = ''\n",
        "    image = None\n",
        "    if soup.find(\"h1\", class_=\"title\"):\n",
        "        title = soup.find(\"h1\", class_=\"title\").text\n",
        "    body = soup.find(\"div\", id=\"ArticleContent\")\n",
        "    if body:\n",
        "        if body.find(\"div\", class_=\"ArticleLead\"):\n",
        "            abstract = body.find(\"div\", class_=\"ArticleLead\").text\n",
        "        if body.find(\"p\"):\n",
        "            content = '\\n'.join([i.text for i in body.findChildren(\"p\", recursive=False)])\n",
        "        if body.find(\"img\"):\n",
        "            image = body.find(\"img\").attrs[\"src\"]\n",
        "    article3.append({'title': title, 'abstract': abstract, 'body': body, 'content': content, 'image': image, 'link': full_link, 'homePage': 'vietnamnet.vn'})"
      ],
      "execution_count": 151,
      "outputs": []
    },
    {
      "cell_type": "code",
      "metadata": {
        "colab": {
          "base_uri": "https://localhost:8080/"
        },
        "id": "Xxvf4A85o_5n",
        "outputId": "dac328fb-0cc4-416b-c225-35bb3c78fb50"
      },
      "source": [
        "article = list(filter(lambda f: len(f['content']) > 500, article1 + article2 + article3))\n",
        "documents = [re.sub('[\\.,\\(\\)\\n]', '', i['content'].lower()) for i in article]\n",
        "length_doc = len(documents)\n",
        "print(len(documents))"
      ],
      "execution_count": 152,
      "outputs": [
        {
          "output_type": "stream",
          "text": [
            "73\n"
          ],
          "name": "stdout"
        }
      ]
    },
    {
      "cell_type": "markdown",
      "metadata": {
        "id": "lO6PthlhjUFH"
      },
      "source": [
        "--------------------------------------------------------\n",
        "#**Không sử dụng PySpark**"
      ]
    },
    {
      "cell_type": "code",
      "metadata": {
        "id": "gx1qOPTVv9X3"
      },
      "source": [
        "t0 = time.time()\n",
        "\n",
        "signgles = set()\n",
        "for doc in documents:\n",
        "    get_signgles(doc, k, signgles)\n",
        "length_shingle = len(signgles)\n",
        "\n",
        "time_no_pyspark += (time.time() - t0)\n",
        "\n",
        "# print('The Union K-gram:', signgles)\n",
        "# print()"
      ],
      "execution_count": 153,
      "outputs": []
    },
    {
      "cell_type": "code",
      "metadata": {
        "id": "_1DKul_ywJst"
      },
      "source": [
        "t0 = time.time()\n",
        "\n",
        "boolean_vector = []\n",
        "for doc in documents:\n",
        "    boolean_vector.append(get_boolean_value(signgles, doc))\n",
        "\n",
        "time_no_pyspark += (time.time() - t0)\n",
        "\n",
        "# print('The matrix boolean: ')\n",
        "# for i in range(len(boolean_vector)):\n",
        "#     print('C{}:'.format(i+1), boolean_vector[i])\n",
        "# print()\n"
      ],
      "execution_count": 154,
      "outputs": []
    },
    {
      "cell_type": "code",
      "metadata": {
        "id": "0fRoy4MxwcKP"
      },
      "source": [
        "# Function Hash\n",
        "hash_func_arr = []\n",
        "\n",
        "# tim so nguyen to nho nhat nhung lon hon x\n",
        "c = find_min_prime(length_shingle)\n",
        "\n",
        "for i in range(num_for_hash):\n",
        "    hash_func_arr.append([random.randint(1, length_shingle), random.randint(1, length_shingle), c])\n"
      ],
      "execution_count": 155,
      "outputs": []
    },
    {
      "cell_type": "code",
      "metadata": {
        "id": "g2Y2ujuAwNJd"
      },
      "source": [
        "# print('Jaccard similarity: ')\n",
        "# for i1, i2 in combinations(range(len(boolean_vector)), 2):\n",
        "#     print('C{} - C{}: '.format(i1+1, i2+1), Jaccard_similarity(boolean_vector[i1], boolean_vector[i2]))\n",
        "# print()\n"
      ],
      "execution_count": null,
      "outputs": []
    },
    {
      "cell_type": "code",
      "metadata": {
        "id": "_9KL_6QeGcC4"
      },
      "source": [
        "t0 = time.time()\n",
        "\n",
        "# Min Hash Using Function\n",
        "min_hash = [[1000000000 for i in range(num_for_hash)] for j in range(length_doc)]\n",
        "for r in range(length_shingle):\n",
        "    hash_row = [hash_function(r, *a) for a in hash_func_arr]\n",
        "    for c in range(length_doc):\n",
        "        if boolean_vector[c][r] == 1:\n",
        "            for i in range(num_for_hash):\n",
        "                if min_hash[c][i] > hash_row[i]:\n",
        "                    min_hash[c][i] = hash_row[i]\n",
        "length_minhash = len(min_hash)\n",
        "\n",
        "time_no_pyspark += (time.time() - t0)\n",
        "\n",
        "# print('Min Hash:')\n",
        "# for i in range(num_for_hash):\n",
        "#     print(list(map(lambda a: a[i], min_hash)))\n",
        "# print()\n"
      ],
      "execution_count": 156,
      "outputs": []
    },
    {
      "cell_type": "code",
      "metadata": {
        "id": "dAIQjaKbPnFN",
        "colab": {
          "base_uri": "https://localhost:8080/"
        },
        "outputId": "cb6fd47c-4626-4f34-a3c8-233a111f63e8"
      },
      "source": [
        "# xuất hiện cùng 1 bucket\n",
        "t0 = time.time()\n",
        "\n",
        "counts = {}\n",
        "print('LSH')\n",
        "b_r = [[b, int(length_minhash / b)] for b in range(1, length_minhash) if (length_minhash / b) % 1 == 0]\n",
        "for b, r in b_r:\n",
        "    threshold = (1/b)**(1/r)\n",
        "    print('band:',b, ';', 'row:', r, ';', 'threshold: ', threshold)\n",
        "    index = [[a, z] for a, z in zip(range(0, length_minhash-r+1, r), range(r, length_minhash+1, r))]\n",
        "    for a, z in index:\n",
        "        temp = check_in_bucket(a, z, threshold, min_hash, counts)\n",
        "        for i in temp:\n",
        "            print('{} - {}: {}'.format(i[0], i[1], i[2]))\n",
        "            print(min_hash[i[0]])\n",
        "            print(min_hash[i[1]])\n",
        "            print(article[i[0]]['link'])\n",
        "            print(article[i[1]]['link'])\n",
        "\n",
        "time_no_pyspark += (time.time() - t0)\n",
        "print('--------------------------------------------------------------------------------------------')\n",
        "print('Total time execute: ', time_no_pyspark)\n"
      ],
      "execution_count": 157,
      "outputs": [
        {
          "output_type": "stream",
          "text": [
            "LSH\n",
            "band: 1 ; row: 73 ; threshold:  1.0\n",
            "--------------------------------------------------------------------------------------------\n",
            "Total time execute:  58.38241529464722\n"
          ],
          "name": "stdout"
        }
      ]
    },
    {
      "cell_type": "code",
      "metadata": {
        "id": "mSPdZtSBa4jO"
      },
      "source": [
        "# số lần xuất hiện trong bucket\n",
        "for i in list(counts):\n",
        "    j = list(i)\n",
        "    print(j[0], j[1])\n",
        "    print('candidate: ', Probility_Sig(min_hash[j[0]], min_hash[j[1]]))\n",
        "    print(min_hash[j[0]])\n",
        "    print(min_hash[j[1]])\n",
        "    print(j[0], j[1])\n",
        "    print(article[j[0]]['link'])\n",
        "    print(article[j[1]]['link'])\n",
        "    print('exist in band:', counts[i])\n",
        "    print('--------------------------------------------')"
      ],
      "execution_count": 158,
      "outputs": []
    },
    {
      "cell_type": "code",
      "metadata": {
        "colab": {
          "base_uri": "https://localhost:8080/"
        },
        "id": "Oae57IpvjM6t",
        "outputId": "151dc42f-b178-4219-db41-4d5233e1b021"
      },
      "source": [
        "# hiển thị tắt cả các cặp giống nhau với threshold > 0.1\n",
        "print('All')\n",
        "threshold = 0.1\n",
        "for i1, i2 in combinations(range(len(min_hash)), 2):\n",
        "    if Probility_Sig(min_hash[i1], min_hash[i2]) > threshold:\n",
        "        print('candidate: ', Probility_Sig(min_hash[i1], min_hash[i2]))\n",
        "        print(min_hash[i1])\n",
        "        print(min_hash[i2])\n",
        "        print(article[i1]['link'])\n",
        "        print(article[i2]['link'])\n",
        "        print('--------------------------------------------')"
      ],
      "execution_count": 159,
      "outputs": [
        {
          "output_type": "stream",
          "text": [
            "All\n",
            "candidate:  0.59\n",
            "[80, 20, 163, 191, 216, 131, 95, 282, 108, 29, 62, 2, 50, 114, 17, 68, 131, 37, 31, 21, 286, 280, 10, 108, 5, 29, 34, 4, 109, 8, 74, 187, 11, 171, 33, 274, 44, 8, 65, 60, 4, 52, 6, 108, 41, 31, 33, 50, 96, 13, 140, 69, 211, 20, 119, 58, 35, 60, 315, 178, 93, 18, 81, 29, 15, 59, 62, 101, 1, 77, 215, 63, 188, 13, 101, 44, 36, 5, 213, 169, 124, 194, 20, 18, 66, 161, 88, 18, 58, 88, 5, 40, 7, 210, 120, 34, 67, 46, 18, 34]\n",
            "[80, 20, 163, 135, 210, 131, 95, 423, 108, 29, 147, 2, 45, 326, 17, 68, 131, 37, 31, 21, 286, 280, 89, 108, 5, 118, 34, 37, 114, 43, 74, 187, 11, 171, 33, 274, 100, 8, 73, 60, 4, 52, 132, 198, 41, 105, 33, 50, 33, 13, 217, 126, 249, 20, 119, 41, 35, 60, 109, 259, 34, 40, 21, 29, 15, 59, 62, 107, 1, 77, 767, 63, 149, 13, 221, 44, 4, 5, 49, 169, 124, 159, 150, 18, 66, 233, 88, 18, 81, 92, 55, 40, 26, 210, 120, 28, 82, 46, 18, 34]\n",
            "https://tuoitre.vn/thu-tuong-dong-y-dau-tu-mo-rong-san-bay-dien-bien-co-the-don-may-bay-lon-20210327224434091.htm\n",
            "https://vietnamnet.vn/vn/thoi-su/an-toan-giao-thong/thu-tuong-dong-y-dau-tu-mo-rong-san-bay-dien-bien-723137.html\n",
            "--------------------------------------------\n",
            "candidate:  0.17\n",
            "[159, 119, 45, 88, 40, 108, 24, 3, 46, 35, 56, 32, 81, 57, 17, 14, 11, 35, 86, 14, 4, 43, 45, 58, 13, 129, 34, 53, 12, 17, 123, 157, 11, 133, 34, 0, 66, 9, 20, 67, 21, 89, 68, 14, 103, 7, 285, 140, 73, 130, 115, 49, 23, 38, 73, 3, 35, 9, 214, 21, 24, 79, 20, 11, 249, 18, 64, 5, 40, 12, 36, 19, 88, 99, 30, 8, 79, 5, 70, 27, 27, 14, 100, 18, 222, 153, 20, 96, 39, 3, 55, 35, 0, 158, 56, 36, 97, 10, 18, 36]\n",
            "[15, 29, 36, 17, 16, 99, 35, 25, 4, 63, 146, 12, 37, 12, 17, 6, 11, 35, 86, 15, 3, 7, 104, 10, 13, 77, 34, 53, 58, 52, 2, 79, 93, 30, 22, 0, 54, 9, 20, 75, 28, 52, 19, 4, 46, 15, 21, 0, 51, 15, 4, 3, 5, 47, 29, 3, 35, 5, 8, 122, 4, 172, 20, 53, 0, 18, 4, 7, 1, 40, 11, 25, 55, 14, 30, 22, 5, 35, 60, 73, 4, 23, 34, 18, 29, 1, 9, 39, 4, 56, 40, 13, 58, 18, 293, 54, 36, 149, 18, 66]\n",
            "https://tuoitre.vn/bo-truong-to-lam-bao-ve-an-ninh-quoc-gia-la-dam-bao-cuoc-song-nguoi-dan-20210328164606628.htm\n",
            "https://vietnamnet.vn/vn/thoi-su/chinh-tri/dai-tuong-to-lam-lan-dau-tien-an-ninh-con-nguoi-thanh-muc-tieu-phat-trien-723119.html\n",
            "--------------------------------------------\n",
            "candidate:  0.12\n",
            "[74, 31, 5, 35, 196, 56, 75, 56, 8, 71, 23, 6, 4, 20, 17, 15, 11, 8, 68, 21, 7, 12, 34, 10, 44, 144, 13, 23, 51, 2, 4, 73, 11, 15, 4, 0, 0, 9, 73, 131, 20, 12, 11, 9, 73, 51, 11, 107, 36, 13, 47, 13, 12, 78, 20, 3, 20, 25, 44, 25, 7, 57, 97, 34, 9, 50, 10, 41, 1, 12, 45, 66, 67, 40, 3, 12, 62, 5, 162, 47, 5, 1, 44, 18, 11, 9, 8, 15, 32, 89, 33, 67, 6, 33, 33, 7, 35, 6, 9, 74]\n",
            "[52, 47, 4, 72, 48, 37, 9, 56, 8, 94, 253, 10, 159, 20, 14, 38, 60, 25, 98, 138, 8, 19, 60, 0, 58, 118, 1, 7, 17, 93, 66, 65, 75, 56, 65, 0, 14, 89, 109, 19, 12, 12, 34, 104, 37, 35, 121, 203, 158, 1, 64, 7, 3, 62, 18, 3, 35, 1, 3, 57, 42, 89, 29, 2, 9, 31, 14, 44, 322, 15, 38, 19, 84, 144, 10, 25, 49, 100, 162, 83, 99, 42, 32, 18, 10, 9, 19, 58, 22, 86, 8, 108, 9, 102, 33, 68, 5, 6, 14, 40]\n",
            "https://vnexpress.net/tinh-hinh-bien-dong-co-nhung-dien-bien-cang-thang-4254685.html\n",
            "https://vnexpress.net/viet-nam-phan-dau-tro-thanh-quoc-gia-so-vao-nam-2030-4254539.html\n",
            "--------------------------------------------\n",
            "candidate:  0.25\n",
            "[74, 31, 5, 35, 196, 56, 75, 56, 8, 71, 23, 6, 4, 20, 17, 15, 11, 8, 68, 21, 7, 12, 34, 10, 44, 144, 13, 23, 51, 2, 4, 73, 11, 15, 4, 0, 0, 9, 73, 131, 20, 12, 11, 9, 73, 51, 11, 107, 36, 13, 47, 13, 12, 78, 20, 3, 20, 25, 44, 25, 7, 57, 97, 34, 9, 50, 10, 41, 1, 12, 45, 66, 67, 40, 3, 12, 62, 5, 162, 47, 5, 1, 44, 18, 11, 9, 8, 15, 32, 89, 33, 67, 6, 33, 33, 7, 35, 6, 9, 74]\n",
            "[5, 2, 28, 35, 24, 44, 1, 112, 12, 15, 4, 6, 4, 20, 7, 14, 7, 82, 43, 15, 26, 12, 9, 10, 35, 83, 4, 25, 63, 20, 4, 15, 26, 15, 77, 0, 5, 9, 27, 9, 21, 19, 42, 9, 39, 1, 4, 32, 3, 26, 51, 13, 61, 12, 43, 3, 20, 9, 80, 122, 7, 2, 20, 34, 39, 26, 39, 18, 18, 52, 53, 66, 82, 19, 3, 12, 111, 11, 64, 47, 36, 15, 46, 18, 112, 9, 8, 6, 20, 91, 16, 26, 9, 33, 88, 7, 49, 30, 25, 41]\n",
            "https://vnexpress.net/tinh-hinh-bien-dong-co-nhung-dien-bien-cang-thang-4254685.html\n",
            "https://vietnamnet.vn/vn/thoi-su/chinh-tri/thuong-tuong-phan-van-giang-bien-dong-van-dang-co-nhung-dien-bien-cang-thang-723105.html\n",
            "--------------------------------------------\n",
            "candidate:  0.33\n",
            "[101, 49, 68, 86, 18, 19, 45, 26, 28, 102, 136, 155, 256, 294, 23, 20, 15, 41, 40, 42, 227, 63, 4, 90, 12, 59, 52, 54, 3, 0, 6, 114, 6, 9, 23, 15, 42, 17, 188, 95, 74, 5, 4, 64, 5, 83, 82, 109, 5, 80, 2, 108, 207, 1, 22, 258, 21, 75, 42, 32, 1, 20, 54, 13, 8, 20, 5, 0, 36, 58, 125, 10, 18, 110, 30, 13, 43, 13, 92, 100, 62, 10, 8, 206, 16, 47, 37, 205, 8, 76, 43, 59, 3, 124, 10, 8, 148, 11, 42, 20]\n",
            "[101, 49, 68, 86, 18, 19, 194, 26, 79, 148, 26, 78, 292, 139, 47, 36, 15, 150, 141, 42, 227, 63, 35, 152, 275, 129, 63, 38, 305, 0, 6, 114, 152, 167, 71, 64, 67, 17, 188, 124, 78, 194, 4, 64, 89, 171, 82, 109, 46, 80, 61, 219, 85, 248, 31, 258, 73, 141, 42, 25, 2, 65, 64, 13, 8, 135, 70, 36, 36, 98, 129, 51, 21, 195, 30, 60, 251, 13, 104, 34, 125, 393, 71, 80, 308, 47, 191, 28, 8, 526, 29, 59, 70, 203, 10, 147, 70, 11, 68, 112]\n",
            "https://vnexpress.net/cach-ly-19-f1-cua-ca-covid-19-o-hai-phong-4254243.html\n",
            "https://vnexpress.net/hai-phong-phong-toa-noi-luu-tru-hai-ca-nhiem-covid-19-4254184.html\n",
            "--------------------------------------------\n",
            "candidate:  0.11\n",
            "[101, 49, 68, 86, 18, 19, 45, 26, 28, 102, 136, 155, 256, 294, 23, 20, 15, 41, 40, 42, 227, 63, 4, 90, 12, 59, 52, 54, 3, 0, 6, 114, 6, 9, 23, 15, 42, 17, 188, 95, 74, 5, 4, 64, 5, 83, 82, 109, 5, 80, 2, 108, 207, 1, 22, 258, 21, 75, 42, 32, 1, 20, 54, 13, 8, 20, 5, 0, 36, 58, 125, 10, 18, 110, 30, 13, 43, 13, 92, 100, 62, 10, 8, 206, 16, 47, 37, 205, 8, 76, 43, 59, 3, 124, 10, 8, 148, 11, 42, 20]\n",
            "[10, 39, 70, 241, 10, 72, 50, 83, 111, 105, 236, 395, 0, 101, 79, 106, 46, 8, 53, 42, 43, 327, 136, 6, 39, 148, 38, 3, 188, 11, 6, 11, 24, 166, 85, 52, 1, 17, 6, 52, 137, 115, 4, 142, 29, 98, 8, 67, 19, 23, 51, 174, 1, 48, 25, 52, 170, 39, 142, 2, 181, 55, 91, 34, 1, 278, 65, 0, 105, 118, 65, 38, 18, 35, 155, 93, 61, 39, 176, 34, 60, 67, 41, 23, 16, 91, 116, 69, 1, 202, 43, 0, 3, 46, 10, 19, 55, 11, 64, 8]\n",
            "https://vnexpress.net/cach-ly-19-f1-cua-ca-covid-19-o-hai-phong-4254243.html\n",
            "https://vnexpress.net/phu-quoc-cach-ly-26-nguoi-tiep-xuc-hai-benh-nhan-covid-19-4254351.html\n",
            "--------------------------------------------\n",
            "candidate:  0.15\n",
            "[544, 108, 397, 376, 71, 123, 287, 162, 4, 17, 17, 20, 131, 199, 83, 18, 225, 172, 357, 209, 416, 66, 613, 588, 254, 29, 300, 14, 283, 405, 216, 13, 6, 0, 180, 5, 471, 83, 25, 0, 544, 82, 140, 32, 72, 67, 181, 709, 102, 133, 202, 60, 57, 86, 152, 56, 623, 847, 4, 268, 50, 12, 143, 109, 176, 604, 112, 119, 1, 44, 125, 156, 51, 116, 140, 108, 514, 82, 932, 100, 3, 15, 8, 239, 19, 101, 779, 190, 159, 51, 5, 28, 303, 343, 155, 34, 15, 430, 83, 51]\n",
            "[653, 100, 13, 290, 420, 59, 124, 162, 293, 53, 66, 216, 295, 95, 20, 157, 60, 89, 92, 161, 416, 216, 527, 237, 1267, 10, 301, 14, 1046, 47, 251, 659, 1, 121, 69, 112, 471, 53, 652, 79, 77, 82, 1484, 32, 592, 98, 279, 235, 1008, 6, 202, 80, 118, 237, 33, 234, 24, 644, 179, 550, 391, 12, 87, 109, 45, 4, 356, 147, 1, 742, 125, 143, 51, 54, 177, 115, 657, 574, 308, 16, 9, 15, 150, 239, 385, 10, 180, 171, 44, 131, 2, 28, 274, 186, 473, 259, 31, 331, 120, 258]\n",
            "https://vnexpress.net/phat-hien-bon-nguoi-trung-quoc-nhap-canh-trai-phep-4254650.html\n",
            "https://vietnamnet.vn/vn/thoi-su/truy-bat-o-to-cho-4-nguoi-trung-quoc-nhap-canh-trai-phep-o-quang-ninh-723080.html\n",
            "--------------------------------------------\n"
          ],
          "name": "stdout"
        }
      ]
    },
    {
      "cell_type": "markdown",
      "metadata": {
        "id": "djZDR-8NBhrb"
      },
      "source": [
        "\n",
        "--------------------------------------------------------\n",
        "#**Sử dụng PySpark**"
      ]
    },
    {
      "cell_type": "code",
      "metadata": {
        "id": "QRNEtn3tFzf3"
      },
      "source": [
        "conf = pyspark.SparkConf().setMaster('local').setAppName('Similar Document')\n",
        "sc = pyspark.SparkContext.getOrCreate(conf=conf)"
      ],
      "execution_count": 160,
      "outputs": []
    },
    {
      "cell_type": "code",
      "metadata": {
        "id": "EUul-VGxbjME"
      },
      "source": [
        "t0 = time.time()\n",
        "\n",
        "doc = sc.parallelize(documents)\n",
        "signgles_pyspark = doc.map(lambda a: get_signgles(a, k, set()))\n",
        "signgles_pyspark = set(signgles_pyspark.reduce(lambda a, b: list(a) + list(b)))\n",
        "length_shingle = len(signgles_pyspark)\n",
        "\n",
        "time_using_pyspark += (time.time() - t0)\n",
        "\n",
        "# print('The Union K-gram:', signgles_pyspark)\n",
        "# print(length_shingle)"
      ],
      "execution_count": 161,
      "outputs": []
    },
    {
      "cell_type": "code",
      "metadata": {
        "id": "RJ9UFPpSWdrf"
      },
      "source": [
        "t0 = time.time()\n",
        "\n",
        "B_vector_pyspark = doc.map(lambda d: get_boolean_value(signgles_pyspark, d))\n",
        "B_vector = B_vector_pyspark.collect()\n",
        "\n",
        "time_using_pyspark += (time.time() - t0)\n",
        "\n",
        "# print('The matrix boolean: ')\n",
        "# for i in range(len(B_vector)):\n",
        "#     print('C{}:'.format(i+1), B_vector[i])\n",
        "# print()"
      ],
      "execution_count": 162,
      "outputs": []
    },
    {
      "cell_type": "code",
      "metadata": {
        "id": "C4U5JH7Jh9ss"
      },
      "source": [
        "t0 = time.time()\n",
        "\n",
        "min_hash_pyspark = B_vector_pyspark.map(lambda c: [min([hash_function(i, *hash_func_arr[hash_index]) for i in range(length_shingle) if c[i] == 1] + [1000000000]) for hash_index in range(num_for_hash)])\n",
        "min_hash = min_hash_pyspark.collect()\n",
        "length_minhash = len(min_hash)\n",
        "\n",
        "time_using_pyspark += (time.time() - t0)\n",
        "\n",
        "# print('Min Hash:')\n",
        "# for i in range(num_for_hash):\n",
        "#     print(list(map(lambda a: a[i], min_hash)))\n",
        "# print()\n"
      ],
      "execution_count": 163,
      "outputs": []
    },
    {
      "cell_type": "code",
      "metadata": {
        "colab": {
          "base_uri": "https://localhost:8080/"
        },
        "id": "QZSmDCugmAc2",
        "outputId": "76b77eae-a2eb-4524-8d9a-38adc72468ec"
      },
      "source": [
        "# xuất hiện cùng 1 bucket\n",
        "t0 = time.time()\n",
        "\n",
        "counts = {}\n",
        "print('LSH')\n",
        "b_r = [[b, int(length_minhash / b)] for b in range(1, length_minhash) if (length_minhash / b) % 1 == 0]\n",
        "for b, r in b_r:\n",
        "    threshold = (1/b)**(1/r)\n",
        "    print('band:',b, ';', 'row:', r, ';', 'threshold: ', threshold)\n",
        "    index = [[a, z] for a, z in zip(range(0, length_minhash-r+1, r), range(r, length_minhash+1, r))]\n",
        "    for a, z in index:\n",
        "        temp = check_in_bucket(a, z, threshold, min_hash, counts)\n",
        "        for i in temp:\n",
        "            print('{} - {}: {}'.format(i[0], i[1], i[2]))\n",
        "            print(min_hash[i[0]])\n",
        "            print(min_hash[i[1]])\n",
        "            print(article[i[0]]['link'])\n",
        "            print(article[i[1]]['link'])\n",
        "        \n",
        "time_using_pyspark += (time.time() - t0)\n",
        "print('--------------------------------------------------------------------------------------------')\n",
        "print('Time execute: ', time_using_pyspark)"
      ],
      "execution_count": 164,
      "outputs": [
        {
          "output_type": "stream",
          "text": [
            "LSH\n",
            "band: 1 ; row: 73 ; threshold:  1.0\n",
            "--------------------------------------------------------------------------------------------\n",
            "Time execute:  162.5185580253601\n"
          ],
          "name": "stdout"
        }
      ]
    },
    {
      "cell_type": "code",
      "metadata": {
        "id": "UvIHD5iZeToa"
      },
      "source": [
        "# số lần xuất hiện trong bucket\n",
        "for i in list(counts):\n",
        "    j = list(i)\n",
        "    print(j[0], j[1])\n",
        "    print('candidate: ', Probility_Sig(min_hash[j[0]], min_hash[j[1]]))\n",
        "    print(min_hash[j[0]])\n",
        "    print(min_hash[j[1]])\n",
        "    print(j[0], j[1])\n",
        "    print(article[j[0]]['link'])\n",
        "    print(article[j[1]]['link'])\n",
        "    print('exist in band:', counts[i])\n",
        "    print('--------------------------------------------')"
      ],
      "execution_count": 165,
      "outputs": []
    },
    {
      "cell_type": "code",
      "metadata": {
        "id": "B6YHj1m62Ism",
        "colab": {
          "base_uri": "https://localhost:8080/"
        },
        "outputId": "905d524b-d233-4133-8743-d2fc7eccc476"
      },
      "source": [
        "# hiển thị tắt cả các cặp giống nhau với threshold > 0.1\n",
        "print('All')\n",
        "threshold = 0.1\n",
        "for i1, i2 in combinations(range(len(min_hash)), 2):\n",
        "    if Probility_Sig(min_hash[i1], min_hash[i2]) > threshold:\n",
        "        print('candidate: ', Probility_Sig(min_hash[i1], min_hash[i2]))\n",
        "        print(min_hash[i1])\n",
        "        print(min_hash[i2])\n",
        "        print(article[i1]['link'])\n",
        "        print(article[i2]['link'])\n",
        "        print('--------------------------------------------')"
      ],
      "execution_count": 166,
      "outputs": [
        {
          "output_type": "stream",
          "text": [
            "All\n",
            "candidate:  0.12\n",
            "[28, 8, 64, 6, 64, 15, 92, 19, 40, 127, 9, 57, 21, 72, 130, 52, 160, 66, 27, 102, 2, 40, 198, 8, 29, 86, 12, 24, 125, 55, 21, 151, 26, 12, 44, 21, 34, 1, 82, 34, 16, 6, 18, 157, 7, 126, 48, 130, 51, 45, 48, 4, 31, 77, 65, 89, 99, 96, 47, 35, 24, 2, 21, 23, 61, 136, 154, 44, 110, 8, 66, 121, 75, 98, 65, 25, 57, 35, 102, 15, 0, 36, 0, 0, 125, 75, 167, 11, 101, 33, 48, 11, 22, 89, 227, 4, 32, 184, 59, 68]\n",
            "[124, 23, 266, 360, 95, 123, 150, 111, 40, 48, 4, 98, 294, 331, 25, 164, 4, 132, 29, 197, 311, 5, 327, 260, 3, 446, 12, 83, 50, 62, 481, 7, 149, 97, 213, 72, 314, 9, 11, 136, 16, 378, 18, 13, 114, 99, 48, 65, 48, 24, 9, 51, 31, 75, 104, 378, 30, 108, 383, 204, 118, 35, 21, 153, 106, 73, 154, 112, 143, 254, 65, 479, 3, 60, 51, 25, 27, 12, 101, 184, 99, 30, 41, 204, 174, 79, 397, 37, 18, 53, 200, 28, 27, 89, 227, 371, 32, 44, 104, 240]\n",
            "https://tuoitre.vn/bat-ngo-vu-2-nguoi-roi-tu-tang-2-dan-khong-biet-chu-dau-tu-coi-noi-roi-cho-thue-2021032817102311.htm\n",
            "https://tuoitre.vn/dang-lam-viec-hai-nguoi-roi-tu-tang-2-van-phong-xuong-sanh-chung-cu-20210328111701958.htm\n",
            "--------------------------------------------\n",
            "candidate:  0.49\n",
            "[215, 189, 62, 16, 221, 28, 99, 52, 27, 10, 129, 297, 456, 269, 33, 113, 81, 27, 90, 104, 12, 8, 64, 49, 86, 22, 137, 17, 34, 114, 190, 57, 24, 0, 123, 98, 11, 157, 154, 482, 92, 25, 62, 342, 136, 85, 120, 61, 0, 74, 339, 73, 330, 118, 344, 53, 24, 75, 1, 54, 247, 28, 26, 67, 26, 180, 54, 1, 26, 187, 34, 114, 520, 338, 8, 92, 7, 128, 183, 178, 37, 433, 56, 323, 108, 23, 52, 207, 189, 104, 20, 13, 333, 42, 98, 55, 26, 68, 77, 44]\n",
            "[38, 369, 412, 16, 329, 98, 99, 52, 231, 10, 111, 143, 456, 269, 192, 113, 81, 70, 114, 184, 60, 190, 259, 49, 86, 243, 137, 17, 105, 164, 190, 135, 205, 0, 261, 98, 11, 112, 154, 482, 209, 53, 62, 342, 186, 167, 120, 61, 104, 74, 356, 73, 220, 118, 279, 53, 89, 87, 23, 46, 440, 28, 169, 269, 26, 180, 54, 1, 26, 187, 286, 114, 576, 65, 8, 328, 7, 128, 183, 253, 37, 529, 138, 323, 486, 23, 52, 29, 189, 104, 115, 33, 235, 42, 110, 55, 26, 417, 77, 44]\n",
            "https://tuoitre.vn/thu-tuong-dong-y-dau-tu-mo-rong-san-bay-dien-bien-co-the-don-may-bay-lon-20210327224434091.htm\n",
            "https://vietnamnet.vn/vn/thoi-su/an-toan-giao-thong/thu-tuong-dong-y-dau-tu-mo-rong-san-bay-dien-bien-723137.html\n",
            "--------------------------------------------\n",
            "candidate:  0.12\n",
            "[97, 4, 103, 48, 162, 21, 149, 50, 14, 8, 123, 289, 15, 43, 233, 66, 33, 361, 93, 39, 49, 137, 4, 65, 297, 386, 86, 43, 346, 225, 22, 3, 36, 181, 26, 95, 17, 79, 38, 107, 18, 35, 7, 24, 65, 132, 110, 143, 33, 123, 209, 171, 99, 24, 200, 163, 132, 1, 420, 74, 40, 169, 104, 18, 18, 33, 12, 61, 5, 107, 103, 124, 117, 0, 37, 49, 342, 6, 260, 125, 27, 56, 84, 52, 48, 125, 108, 21, 19, 1, 141, 39, 123, 93, 141, 71, 30, 26, 23, 14]\n",
            "[20, 64, 166, 48, 207, 109, 20, 151, 367, 81, 820, 71, 5, 3, 28, 66, 42, 26, 48, 13, 117, 236, 4, 246, 104, 87, 7, 46, 20, 21, 85, 1, 339, 49, 69, 164, 18, 42, 100, 63, 159, 77, 3, 24, 19, 83, 247, 313, 214, 55, 71, 14, 251, 24, 56, 76, 68, 1, 76, 277, 102, 8, 209, 32, 112, 182, 12, 99, 106, 31, 81, 124, 261, 0, 48, 30, 72, 124, 3, 125, 27, 56, 65, 263, 626, 160, 157, 112, 0, 110, 50, 42, 143, 16, 105, 104, 21, 90, 102, 59]\n",
            "https://tuoitre.vn/tp-hcm-oi-buc-tu-dau-buoi-sang-mien-bac-doi-mat-dot-nong-vuot-39-do-c-20210328084316168.htm\n",
            "https://vnexpress.net/mien-bac-vao-dot-nang-nong-dau-tien-4254649.html\n",
            "--------------------------------------------\n",
            "candidate:  0.12\n",
            "[64, 12, 73, 506, 55, 91, 80, 133, 134, 376, 219, 197, 36, 518, 253, 127, 369, 29, 185, 56, 100, 68, 141, 184, 11, 51, 165, 103, 61, 35, 275, 63, 99, 81, 30, 224, 74, 32, 143, 392, 296, 113, 101, 96, 75, 50, 50, 213, 199, 25, 70, 48, 129, 159, 243, 44, 57, 58, 45, 247, 34, 65, 19, 2, 278, 25, 106, 118, 3, 295, 93, 36, 35, 118, 6, 262, 318, 10, 223, 195, 189, 51, 72, 277, 25, 16, 321, 120, 9, 36, 10, 369, 1, 18, 288, 7, 50, 32, 11, 307]\n",
            "[86, 123, 73, 452, 241, 148, 102, 85, 91, 376, 137, 53, 36, 115, 30, 88, 236, 75, 307, 112, 100, 31, 45, 44, 533, 52, 60, 6, 76, 151, 265, 114, 178, 63, 54, 225, 15, 32, 205, 185, 299, 163, 82, 258, 75, 29, 106, 30, 27, 83, 243, 24, 87, 253, 131, 47, 50, 366, 16, 163, 34, 112, 65, 164, 90, 241, 216, 17, 171, 37, 25, 48, 65, 142, 313, 127, 149, 88, 120, 169, 95, 269, 72, 103, 25, 135, 171, 47, 166, 36, 7, 16, 24, 18, 149, 127, 78, 246, 11, 40]\n",
            "https://tuoitre.vn/ca-covid-19-moi-duoc-dua-cach-ly-ngay-khi-nhap-canh-20210328183703995.htm\n",
            "https://tuoitre.vn/sang-28-3-them-4-ca-covid-19-co-2-nguoi-moi-tu-campuchia-ve-nuoc-20210328061113244.htm\n",
            "--------------------------------------------\n",
            "candidate:  0.14\n",
            "[149, 31, 24, 80, 98, 33, 14, 3, 25, 9, 24, 14, 32, 33, 21, 11, 84, 30, 5, 26, 4, 25, 18, 52, 12, 2, 27, 7, 95, 1, 28, 72, 32, 2, 81, 30, 70, 21, 69, 18, 75, 39, 19, 0, 6, 165, 18, 108, 2, 92, 35, 71, 51, 20, 24, 3, 60, 61, 13, 47, 28, 4, 0, 1, 8, 5, 26, 158, 37, 11, 178, 16, 9, 47, 34, 43, 16, 2, 3, 17, 15, 28, 106, 50, 16, 21, 8, 36, 3, 0, 16, 15, 8, 14, 7, 5, 100, 76, 22, 15]\n",
            "[149, 35, 39, 46, 130, 48, 14, 41, 174, 9, 3, 5, 18, 12, 21, 25, 84, 32, 10, 138, 53, 55, 8, 32, 12, 43, 22, 119, 62, 16, 88, 19, 23, 22, 53, 19, 175, 9, 65, 25, 3, 28, 37, 0, 75, 0, 120, 69, 19, 54, 35, 178, 54, 7, 9, 35, 3, 19, 39, 9, 8, 22, 155, 1, 10, 29, 67, 56, 11, 11, 34, 32, 87, 30, 45, 85, 59, 37, 3, 76, 15, 87, 76, 27, 27, 18, 8, 6, 4, 68, 14, 15, 93, 22, 50, 12, 32, 176, 135, 2]\n",
            "https://vnexpress.net/tinh-hinh-bien-dong-co-nhung-dien-bien-cang-thang-4254685.html\n",
            "https://vnexpress.net/viet-nam-phan-dau-tro-thanh-quoc-gia-so-vao-nam-2030-4254539.html\n",
            "--------------------------------------------\n",
            "candidate:  0.21\n",
            "[149, 31, 24, 80, 98, 33, 14, 3, 25, 9, 24, 14, 32, 33, 21, 11, 84, 30, 5, 26, 4, 25, 18, 52, 12, 2, 27, 7, 95, 1, 28, 72, 32, 2, 81, 30, 70, 21, 69, 18, 75, 39, 19, 0, 6, 165, 18, 108, 2, 92, 35, 71, 51, 20, 24, 3, 60, 61, 13, 47, 28, 4, 0, 1, 8, 5, 26, 158, 37, 11, 178, 16, 9, 47, 34, 43, 16, 2, 3, 17, 15, 28, 106, 50, 16, 21, 8, 36, 3, 0, 16, 15, 8, 14, 7, 5, 100, 76, 22, 15]\n",
            "[39, 54, 35, 80, 12, 103, 9, 17, 25, 4, 13, 14, 31, 29, 61, 7, 94, 117, 5, 26, 21, 25, 11, 23, 39, 34, 27, 38, 57, 1, 6, 0, 29, 47, 102, 7, 35, 9, 69, 11, 27, 14, 46, 17, 6, 9, 5, 19, 10, 42, 4, 21, 80, 20, 80, 3, 76, 77, 5, 48, 28, 22, 4, 38, 10, 25, 26, 20, 21, 15, 34, 37, 9, 33, 7, 36, 12, 46, 8, 11, 55, 45, 106, 35, 14, 14, 8, 79, 3, 17, 16, 21, 8, 91, 7, 19, 10, 12, 4, 81]\n",
            "https://vnexpress.net/tinh-hinh-bien-dong-co-nhung-dien-bien-cang-thang-4254685.html\n",
            "https://vietnamnet.vn/vn/thoi-su/chinh-tri/thuong-tuong-phan-van-giang-bien-dong-van-dang-co-nhung-dien-bien-cang-thang-723105.html\n",
            "--------------------------------------------\n",
            "candidate:  0.28\n",
            "[10, 40, 32, 38, 28, 3, 68, 37, 30, 6, 294, 63, 80, 15, 53, 22, 15, 5, 60, 12, 16, 54, 2, 6, 34, 39, 86, 86, 154, 88, 49, 36, 37, 4, 94, 108, 65, 0, 58, 124, 79, 187, 7, 137, 114, 135, 177, 11, 119, 5, 36, 26, 76, 167, 17, 2, 73, 145, 68, 2, 37, 22, 9, 216, 108, 33, 32, 430, 8, 113, 34, 183, 14, 55, 16, 35, 1, 104, 67, 31, 18, 48, 16, 24, 85, 13, 112, 32, 7, 44, 85, 10, 25, 15, 16, 43, 82, 350, 11, 55]\n",
            "[10, 11, 32, 68, 244, 61, 68, 110, 30, 6, 262, 63, 151, 69, 53, 66, 152, 49, 63, 19, 36, 6, 0, 6, 210, 46, 170, 297, 119, 124, 26, 36, 298, 203, 54, 178, 65, 73, 232, 20, 2, 107, 7, 114, 13, 247, 134, 195, 24, 222, 116, 78, 76, 418, 70, 2, 20, 28, 68, 2, 50, 22, 9, 261, 185, 1, 104, 297, 8, 215, 174, 183, 95, 48, 16, 102, 79, 104, 67, 31, 18, 48, 16, 92, 280, 185, 171, 32, 99, 84, 422, 32, 233, 15, 66, 207, 123, 302, 269, 96]\n",
            "https://vnexpress.net/cach-ly-19-f1-cua-ca-covid-19-o-hai-phong-4254243.html\n",
            "https://vnexpress.net/hai-phong-phong-toa-noi-luu-tru-hai-ca-nhiem-covid-19-4254184.html\n",
            "--------------------------------------------\n",
            "candidate:  0.12\n",
            "[10, 40, 32, 38, 28, 3, 68, 37, 30, 6, 294, 63, 80, 15, 53, 22, 15, 5, 60, 12, 16, 54, 2, 6, 34, 39, 86, 86, 154, 88, 49, 36, 37, 4, 94, 108, 65, 0, 58, 124, 79, 187, 7, 137, 114, 135, 177, 11, 119, 5, 36, 26, 76, 167, 17, 2, 73, 145, 68, 2, 37, 22, 9, 216, 108, 33, 32, 430, 8, 113, 34, 183, 14, 55, 16, 35, 1, 104, 67, 31, 18, 48, 16, 24, 85, 13, 112, 32, 7, 44, 85, 10, 25, 15, 16, 43, 82, 350, 11, 55]\n",
            "[31, 59, 2, 2, 99, 2, 21, 27, 52, 105, 60, 127, 139, 48, 53, 127, 1, 5, 239, 16, 79, 9, 124, 30, 82, 94, 86, 52, 23, 121, 5, 36, 10, 118, 54, 265, 65, 53, 69, 106, 201, 84, 7, 74, 35, 22, 0, 39, 359, 13, 36, 0, 12, 123, 93, 152, 94, 2, 28, 20, 47, 22, 239, 219, 68, 33, 106, 314, 20, 90, 80, 140, 7, 32, 92, 147, 151, 117, 11, 36, 51, 20, 166, 2, 11, 11, 112, 32, 17, 41, 182, 110, 1, 29, 77, 27, 113, 1, 11, 149]\n",
            "https://vnexpress.net/cach-ly-19-f1-cua-ca-covid-19-o-hai-phong-4254243.html\n",
            "https://vnexpress.net/phu-quoc-cach-ly-26-nguoi-tiep-xuc-hai-benh-nhan-covid-19-4254351.html\n",
            "--------------------------------------------\n",
            "candidate:  0.12\n",
            "[13, 22, 238, 96, 34, 263, 175, 133, 6, 20, 60, 0, 192, 85, 53, 179, 27, 5, 251, 209, 36, 19, 96, 98, 272, 70, 38, 95, 49, 19, 42, 36, 31, 214, 47, 124, 65, 249, 46, 202, 128, 84, 0, 254, 15, 247, 346, 30, 97, 98, 6, 173, 115, 323, 132, 121, 10, 2, 121, 2, 145, 22, 242, 36, 64, 0, 23, 147, 17, 130, 80, 80, 147, 32, 228, 46, 118, 14, 13, 36, 139, 38, 168, 90, 436, 225, 14, 227, 197, 64, 191, 51, 21, 83, 6, 15, 110, 88, 11, 90]\n",
            "[31, 59, 2, 2, 99, 2, 21, 27, 52, 105, 60, 127, 139, 48, 53, 127, 1, 5, 239, 16, 79, 9, 124, 30, 82, 94, 86, 52, 23, 121, 5, 36, 10, 118, 54, 265, 65, 53, 69, 106, 201, 84, 7, 74, 35, 22, 0, 39, 359, 13, 36, 0, 12, 123, 93, 152, 94, 2, 28, 20, 47, 22, 239, 219, 68, 33, 106, 314, 20, 90, 80, 140, 7, 32, 92, 147, 151, 117, 11, 36, 51, 20, 166, 2, 11, 11, 112, 32, 17, 41, 182, 110, 1, 29, 77, 27, 113, 1, 11, 149]\n",
            "https://vnexpress.net/1-500-hoc-sinh-phai-nghi-do-lien-quan-ca-nhiem-ncov-4254335.html\n",
            "https://vnexpress.net/phu-quoc-cach-ly-26-nguoi-tiep-xuc-hai-benh-nhan-covid-19-4254351.html\n",
            "--------------------------------------------\n",
            "candidate:  0.11\n",
            "[77, 111, 404, 272, 498, 127, 195, 20, 60, 10, 138, 297, 87, 106, 22, 231, 441, 293, 159, 61, 29, 146, 58, 80, 17, 104, 33, 1033, 122, 30, 277, 127, 81, 91, 498, 173, 154, 108, 247, 506, 70, 270, 465, 344, 63, 208, 139, 136, 1212, 227, 144, 234, 161, 73, 54, 319, 175, 2, 309, 648, 85, 226, 650, 93, 222, 24, 163, 13, 108, 38, 80, 84, 150, 85, 183, 135, 25, 114, 303, 315, 394, 423, 239, 57, 190, 3, 77, 388, 51, 706, 191, 105, 267, 288, 98, 229, 86, 2, 28, 8]\n",
            "[112, 105, 31, 330, 165, 127, 195, 277, 16, 15, 118, 273, 218, 8, 221, 76, 211, 482, 72, 708, 151, 531, 162, 238, 161, 364, 294, 187, 175, 302, 448, 107, 13, 239, 9, 51, 264, 171, 429, 164, 103, 141, 292, 236, 50, 81, 135, 365, 124, 44, 119, 627, 280, 22, 54, 809, 163, 2, 249, 1039, 811, 226, 432, 52, 193, 972, 564, 129, 13, 145, 80, 96, 13, 251, 327, 136, 25, 153, 62, 610, 48, 50, 20, 243, 190, 112, 77, 121, 359, 3, 130, 266, 428, 432, 98, 26, 32, 2, 57, 427]\n",
            "https://vnexpress.net/phat-hien-bon-nguoi-trung-quoc-nhap-canh-trai-phep-4254650.html\n",
            "https://vietnamnet.vn/vn/thoi-su/truy-bat-o-to-cho-4-nguoi-trung-quoc-nhap-canh-trai-phep-o-quang-ninh-723080.html\n",
            "--------------------------------------------\n"
          ],
          "name": "stdout"
        }
      ]
    }
  ]
}